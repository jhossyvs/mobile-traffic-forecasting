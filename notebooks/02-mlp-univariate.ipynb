{
 "cells": [
  {
   "cell_type": "code",
   "execution_count": null,
   "id": "5461f75e",
   "metadata": {},
   "outputs": [],
   "source": [
    "# 📥 Libraries\n",
    "import os\n",
    "import numpy as np\n",
    "import pandas as pd\n",
    "import matplotlib.pyplot as plt\n",
    "import sys\n",
    "import os\n",
    "from sklearn.model_selection import ParameterGrid\n",
    "from itertools import product"
   ]
  },
  {
   "cell_type": "code",
   "execution_count": 2,
   "id": "f9a0b37c",
   "metadata": {},
   "outputs": [],
   "source": [
    "sys.path.append(os.path.abspath(\"..\"))"
   ]
  },
  {
   "cell_type": "code",
   "execution_count": 17,
   "id": "2acedf50",
   "metadata": {},
   "outputs": [],
   "source": [
    "from src.search import grid_search_mlp_parallel"
   ]
  },
  {
   "cell_type": "code",
   "execution_count": 18,
   "id": "9502c7f1",
   "metadata": {},
   "outputs": [
    {
     "name": "stdout",
     "output_type": "stream",
     "text": [
      "                          R1      R2      R3      R4     R5      R6\n",
      "Datetime                                                           \n",
      "2020-08-24 00:00:00  195.422  21.033  23.986  17.069  5.788  18.110\n",
      "2020-08-24 01:00:00  164.393  16.177  21.957  13.287  4.094  16.437\n",
      "2020-08-24 02:00:00  146.456  14.391  25.695  11.237  5.851   3.126\n",
      "2020-08-24 03:00:00  139.325  14.278  26.725  12.247  5.688   2.762\n",
      "2020-08-24 04:00:00  128.718   9.675  21.466  14.500  4.934   2.438\n"
     ]
    }
   ],
   "source": [
    "ruta_csv = \"../data/processed/series_hourly.csv\"\n",
    "df = pd.read_csv(ruta_csv, parse_dates=[\"Datetime\"], index_col=\"Datetime\")\n",
    "print(df.head())"
   ]
  },
  {
   "cell_type": "code",
   "execution_count": 19,
   "id": "6e9ffb6c",
   "metadata": {},
   "outputs": [],
   "source": [
    "series = df[[\"R1\"]].values"
   ]
  },
  {
   "cell_type": "code",
   "execution_count": 20,
   "id": "820832cf",
   "metadata": {},
   "outputs": [
    {
     "name": "stdout",
     "output_type": "stream",
     "text": [
      "Tamaño total: 1752 | Test size: 175\n"
     ]
    }
   ],
   "source": [
    "test_size = int(len(series) * 0.10)  # 10% de test\n",
    "print(f\"Tamaño total: {len(series)} | Test size: {test_size}\")"
   ]
  },
  {
   "cell_type": "code",
   "execution_count": 21,
   "id": "5c028f5b",
   "metadata": {},
   "outputs": [],
   "source": [
    "def get_neurons(num_capas, valores=[50, 100, 150]):\n",
    "    return [list(c) for c in product(valores, repeat=num_capas)]"
   ]
  },
  {
   "cell_type": "code",
   "execution_count": 22,
   "id": "0dd5eab1",
   "metadata": {},
   "outputs": [],
   "source": [
    "param_grid = {\n",
    "    'steps_in': [3, 5, 7, 14, 30],\n",
    "    'steps_out': [3],\n",
    "    'n_neurons': get_neurons(1) + get_neurons(2),\n",
    "    'n_epochs': [500, 1000, 1500],\n",
    "    'n_batch': [16, 32, 64],\n",
    "    'activation': ['relu'],\n",
    "    'loss': ['mse']\n",
    "}"
   ]
  },
  {
   "cell_type": "code",
   "execution_count": 14,
   "id": "d632f98a",
   "metadata": {},
   "outputs": [],
   "source": [
    "test_size = int(np.round(len(series)*0.10))\n"
   ]
  },
  {
   "cell_type": "code",
   "execution_count": null,
   "id": "055ab317",
   "metadata": {},
   "outputs": [
    {
     "name": "stderr",
     "output_type": "stream",
     "text": [
      "c:\\Users\\Usuario\\anaconda3\\envs\\widgets\\lib\\site-packages\\joblib\\externals\\loky\\process_executor.py:752: UserWarning: A worker stopped while some jobs were given to the executor. This can be caused by a too short worker timeout or by a memory leak.\n",
      "  warnings.warn(\n"
     ]
    },
    {
     "name": "stdout",
     "output_type": "stream",
     "text": [
      "\n",
      "🟢 Mejor configuración encontrada:\n",
      "{'activation': 'relu', 'loss': 'mse', 'n_batch': 16, 'n_epochs': 1000, 'n_neurons': [150, 150], 'steps_in': 30, 'steps_out': 3, 'modelo': '../results/models/modelo_119_RMSE_7.1604.keras', 'RMSE_global': 7.160442875333949, 'RMSE_t+1': 5.459010155916863, 'RMSE_t+2': 7.461431575109482, 'RMSE_t+3': 8.266926483301882}\n",
      "✅ Modelo guardado como: ../results/models/mejor_modelo.keras\n"
     ]
    }
   ],
   "source": [
    "mejor_config, mejor_score = grid_search_mlp_parallel(\n",
    "    series,\n",
    "    test_size,\n",
    "    param_grid,\n",
    "    carpeta_modelos=\"../results/models/univariate/mlp\",\n",
    "    nombre_csv=\"../results/metrics/univariate/mlp/resultados_gridsearch.csv\",\n",
    "    n_jobs=12\n",
    ")"
   ]
  },
  {
   "cell_type": "code",
   "execution_count": 25,
   "id": "f9197acc",
   "metadata": {},
   "outputs": [
    {
     "name": "stdout",
     "output_type": "stream",
     "text": [
      "\n",
      "RMSE global del mejor modelo: 7.160442875333949\n",
      "Mejor configuración encontrada: {'activation': 'relu', 'loss': 'mse', 'n_batch': 16, 'n_epochs': 1000, 'n_neurons': [150, 150], 'steps_in': 30, 'steps_out': 3, 'modelo': '../results/models/modelo_119_RMSE_7.1604.keras', 'RMSE_global': 7.160442875333949, 'RMSE_t+1': 5.459010155916863, 'RMSE_t+2': 7.461431575109482, 'RMSE_t+3': 8.266926483301882}\n"
     ]
    }
   ],
   "source": [
    "print(\"\\nRMSE global del mejor modelo:\", mejor_score)\n",
    "print(\"Mejor configuración encontrada:\", mejor_config)"
   ]
  },
  {
   "cell_type": "code",
   "execution_count": 26,
   "id": "90919ebc",
   "metadata": {},
   "outputs": [
    {
     "data": {
      "image/png": "[encoded data removed]",
      "text/plain": [
       "<Figure size 600x400 with 1 Axes>"
      ]
     },
     "metadata": {},
     "output_type": "display_data"
    }
   ],
   "source": [
    "time_labels = [f\"t+{i+1}\" for i in range(mejor_config[\"steps_out\"])]\n",
    "\n",
    "rmse_steps = [mejor_config[f\"RMSE_t+{i+1}\"] for i in range(mejor_config[\"steps_out\"])]\n",
    "\n",
    "plt.figure(figsize=(6,4))\n",
    "plt.plot(time_labels, rmse_steps, marker=\"o\", label=\"MLP (walk-forward)\")\n",
    "plt.title(\"RMSE por horizonte de predicción\")\n",
    "plt.xlabel(\"Horizonte\")\n",
    "plt.ylabel(\"RMSE\")\n",
    "plt.grid(True)\n",
    "plt.legend()\n",
    "plt.show()"
   ]
  }
 ],
 "metadata": {
  "kernelspec": {
   "display_name": "Kernel Widgets",
   "language": "python",
   "name": "widgets"
  },
  "language_info": {
   "codemirror_mode": {
    "name": "ipython",
    "version": 3
   },
   "file_extension": ".py",
   "mimetype": "text/x-python",
   "name": "python",
   "nbconvert_exporter": "python",
   "pygments_lexer": "ipython3",
   "version": "3.10.16"
  }
 },
 "nbformat": 4,
 "nbformat_minor": 5
}
